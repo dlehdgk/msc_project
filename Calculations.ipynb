{
 "cells": [
  {
   "cell_type": "code",
   "execution_count": 15,
   "id": "2f69d79a",
   "metadata": {},
   "outputs": [],
   "source": [
    "import numpy as np\n",
    "import matplotlib.pyplot as plt\n",
    "from scipy.special import zeta\n",
    "from scipy.optimize import fsolve"
   ]
  },
  {
   "cell_type": "markdown",
   "id": "fda48e89",
   "metadata": {},
   "source": [
    "constants and parameters"
   ]
  },
  {
   "cell_type": "code",
   "execution_count": 30,
   "id": "6081de3d",
   "metadata": {},
   "outputs": [],
   "source": [
    "pi = np.pi\n",
    "z3 = zeta(3)\n",
    "kb = 1.38e-23\n",
    "c = 3e8\n",
    "e = 1.6e-19\n",
    "hc = 6.63e-34*c/e\n",
    "hbar = 6.632-34/(e*2*pi)\n",
    "T0 = 2.7255*kb/e\n",
    "me = 0.511e6\n",
    "eta = 6.05e-10\n",
    "B = 13.6\n",
    "h = 0.673\n",
    "omrh2 = 2.473e-5\n",
    "ommh2 = 0.14187\n",
    "oml = 0.685"
   ]
  },
  {
   "cell_type": "markdown",
   "id": "732aa27a",
   "metadata": {},
   "source": [
    "functions"
   ]
  },
  {
   "cell_type": "code",
   "execution_count": 17,
   "id": "bf1b6992",
   "metadata": {},
   "outputs": [],
   "source": [
    "#temperature to redshift\n",
    "def T(z):\n",
    "    return T0*(1+z)\n",
    "#photon number density\n",
    "def n_g(z):\n",
    "    return (T(z)/hc)**3*16*pi*z3\n",
    "#Saha equation\n",
    "def Saha(z):\n",
    "    return 2**2.5/np.sqrt(pi)*(T(z)/me)**1.5*eta*z3*np.exp(B/T(z))\n",
    "#ground state ionisation fraction\n",
    "def Xsaha(z):\n",
    "    S = Saha(z)\n",
    "    return (-1+np.sqrt(1+4*S))/(2*S)"
   ]
  },
  {
   "cell_type": "code",
   "execution_count": 18,
   "id": "246293b1",
   "metadata": {},
   "outputs": [
    {
     "name": "stdout",
     "output_type": "stream",
     "text": [
      "408.5698838395317\n"
     ]
    }
   ],
   "source": [
    "#photon density at present\n",
    "ng0 = n_g(0)\n",
    "print(ng*1e-6)"
   ]
  },
  {
   "cell_type": "code",
   "execution_count": 19,
   "id": "0bad1d3c",
   "metadata": {},
   "outputs": [
    {
     "name": "stdout",
     "output_type": "stream",
     "text": [
      "0.2471847797229167\n"
     ]
    }
   ],
   "source": [
    "#baryonic density at present\n",
    "nb = 6.05e-10*ng\n",
    "print(nb)"
   ]
  },
  {
   "cell_type": "code",
   "execution_count": 29,
   "id": "c0fe508d",
   "metadata": {},
   "outputs": [
    {
     "name": "stdout",
     "output_type": "stream",
     "text": [
      "2173780105.8278923\n"
     ]
    }
   ],
   "source": [
    "# calculating temp below 13.6 eV\n",
    "z_B = 0.511e6/T0-1\n",
    "print(z_B)"
   ]
  },
  {
   "cell_type": "code",
   "execution_count": 21,
   "id": "d0c94f0b",
   "metadata": {},
   "outputs": [
    {
     "data": {
      "image/png": "[encoded data removed]",
      "text/plain": [
       "<Figure size 640x480 with 1 Axes>"
      ]
     },
     "metadata": {},
     "output_type": "display_data"
    }
   ],
   "source": [
    "z = np.linspace(900, 1500, 1000)\n",
    "X = Xsaha(z)\n",
    "plt.plot(z, X)\n",
    "plt.grid()\n",
    "plt.show()"
   ]
  },
  {
   "cell_type": "code",
   "execution_count": 28,
   "id": "7f1aa469",
   "metadata": {},
   "outputs": [
    {
     "name": "stdout",
     "output_type": "stream",
     "text": [
      "X = 0.1 when z = 1258.8165460824798\n"
     ]
    }
   ],
   "source": [
    "#find when X = fraction\n",
    "fraction = 0.1\n",
    "def X_solve(z):\n",
    "    return Xsaha(z)-fraction\n",
    "root = fsolve(X_solve, [1300])\n",
    "print(\"X = {} when z = {}\".format(fraction, root[0]))"
   ]
  },
  {
   "cell_type": "code",
   "execution_count": null,
   "id": "31a3aaa0",
   "metadata": {},
   "outputs": [],
   "source": [
    "E0 = "
   ]
  }
 ],
 "metadata": {
  "kernelspec": {
   "display_name": "Python 3 (ipykernel)",
   "language": "python",
   "name": "python3"
  },
  "language_info": {
   "codemirror_mode": {
    "name": "ipython",
    "version": 3
   },
   "file_extension": ".py",
   "mimetype": "text/x-python",
   "name": "python",
   "nbconvert_exporter": "python",
   "pygments_lexer": "ipython3",
   "version": "3.9.16"
  }
 },
 "nbformat": 4,
 "nbformat_minor": 5
}
