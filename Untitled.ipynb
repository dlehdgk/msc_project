{
 "cells": [
  {
   "cell_type": "code",
   "execution_count": 1,
   "id": "c6be6d01",
   "metadata": {},
   "outputs": [],
   "source": [
    "import numpy as np\n",
    "import matplotlib.pyplot as plt\n",
    "import scipy.special as sc\n",
    "import scipy.optimize as op\n",
    "from numba import jit"
   ]
  },
  {
   "cell_type": "code",
   "execution_count": null,
   "id": "eee72760",
   "metadata": {},
   "outputs": [],
   "source": [
    "#constants\n",
    "z3 = sc.zeta(3)\n",
    "pi = np.pi\n",
    "eta = 6.05e-10\n",
    "e4 = np.exp(4)\n",
    "h = 0.673\n",
    "Orh2 = 2.473e-5\n",
    "Omh2 = 0.14187\n",
    "Ol = 0.685\n",
    "\n",
    "#Gaussian units\n",
    "q = 4.8032e-10\n",
    "m = 9.1095e-28\n",
    "c=3e10\n",
    "kb=1.3803e-16\n",
    "hbar=1.0546e-27\n",
    "hc = 6.6262e-27*c\n",
    "B = m*q**4/(2*hbar**2)\n",
    "a0 = hbar**2/(m*q*q)\n",
    "sig0 = 512*(pi*q*a0)**2/(3*e4*hbar*c)\n",
    "A = sig0*c/np.sqrt(pi)*(q*q/(hbar*c))**3\n",
    "r0 = q*q/(m*c*c)\n",
    "#1eV in erg\n",
    "ev = 1.6022e-12\n",
    "#T0 in erg\n",
    "T0 = 2.7255*kb\n",
    "#constant factor in review\n",
    "revA = 9.78*r0*r0*c"
   ]
  }
 ],
 "metadata": {
  "kernelspec": {
   "display_name": "Python 3 (ipykernel)",
   "language": "python",
   "name": "python3"
  },
  "language_info": {
   "codemirror_mode": {
    "name": "ipython",
    "version": 3
   },
   "file_extension": ".py",
   "mimetype": "text/x-python",
   "name": "python",
   "nbconvert_exporter": "python",
   "pygments_lexer": "ipython3",
   "version": "3.10.11"
  }
 },
 "nbformat": 4,
 "nbformat_minor": 5
}
