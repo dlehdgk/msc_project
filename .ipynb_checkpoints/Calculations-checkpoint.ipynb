{
 "cells": [
  {
   "cell_type": "code",
   "execution_count": 3,
   "id": "2f69d79a",
   "metadata": {},
   "outputs": [],
   "source": [
    "import numpy as np\n",
    "import matplotlib.pyplot as plt\n",
    "from scipy.special import zeta"
   ]
  },
  {
   "cell_type": "code",
   "execution_count": 6,
   "id": "6081de3d",
   "metadata": {},
   "outputs": [],
   "source": [
    "pi = np.pi\n",
    "z3 = zeta(3)\n",
    "kb = 1.38e-23\n",
    "hc = 1.986e-25\n",
    "T0 = 2.7255"
   ]
  },
  {
   "cell_type": "code",
   "execution_count": 8,
   "id": "246293b1",
   "metadata": {},
   "outputs": [
    {
     "name": "stdout",
     "output_type": "stream",
     "text": [
      "410.4242072669648\n"
     ]
    }
   ],
   "source": [
    "ng = (kb*T0/hc)**3*16*pi*z3\n",
    "print(ng*1e-6)"
   ]
  },
  {
   "cell_type": "code",
   "execution_count": 9,
   "id": "0bad1d3c",
   "metadata": {},
   "outputs": [
    {
     "name": "stdout",
     "output_type": "stream",
     "text": [
      "0.2483066453965137\n"
     ]
    }
   ],
   "source": [
    "nb = 6.05e-10*ng\n",
    "print(nb)"
   ]
  }
 ],
 "metadata": {
  "kernelspec": {
   "display_name": "Python 3 (ipykernel)",
   "language": "python",
   "name": "python3"
  },
  "language_info": {
   "codemirror_mode": {
    "name": "ipython",
    "version": 3
   },
   "file_extension": ".py",
   "mimetype": "text/x-python",
   "name": "python",
   "nbconvert_exporter": "python",
   "pygments_lexer": "ipython3",
   "version": "3.10.11"
  }
 },
 "nbformat": 4,
 "nbformat_minor": 5
}
